{
 "cells": [
  {
   "cell_type": "code",
   "execution_count": 1,
   "id": "09a154bf",
   "metadata": {},
   "outputs": [],
   "source": [
    "import pandas as pd\n",
    "import matplotlib.pyplot as plt\n",
    "import seaborn as sns"
   ]
  },
  {
   "cell_type": "code",
   "execution_count": 12,
   "id": "8ffbc778",
   "metadata": {},
   "outputs": [
    {
     "name": "stdout",
     "output_type": "stream",
     "text": [
      "<class 'pandas.core.frame.DataFrame'>\n",
      "RangeIndex: 11164 entries, 0 to 11163\n",
      "Data columns (total 9 columns):\n",
      " #   Column           Non-Null Count  Dtype \n",
      "---  ------           --------------  ----- \n",
      " 0   Data_Referencia  11164 non-null  object\n",
      " 1   Codi_Districte   11164 non-null  int64 \n",
      " 2   Nom_Districte    11164 non-null  object\n",
      " 3   Codi_Barri       11164 non-null  int64 \n",
      " 4   Nom_Barri        11164 non-null  object\n",
      " 5   Valor            11164 non-null  object\n",
      " 6   NIV_EDUCA_esta   11164 non-null  int64 \n",
      " 7   EDAT_Q           11164 non-null  int64 \n",
      " 8   SEXE             11164 non-null  int64 \n",
      "dtypes: int64(5), object(4)\n",
      "memory usage: 785.1+ KB\n"
     ]
    }
   ],
   "source": [
    "df_estudis = pd.read_csv(r'C:\\Users\\irene\\Downloads\\2025_pad_mdb_niv-educa-esta_edat-q_sexe.csv')\n",
    "df_estudis.info()"
   ]
  },
  {
   "cell_type": "code",
   "execution_count": null,
   "id": "9825b1a4",
   "metadata": {},
   "outputs": [
    {
     "data": {
      "text/plain": [
       "np.int64(1523134)"
      ]
     },
     "execution_count": 29,
     "metadata": {},
     "output_type": "execute_result"
    }
   ],
   "source": [
    "# Numero de personas total en el df\n",
    "df_estudis.loc[df_estudis['Valor'] == '..' , 'Valor'] = 0\n",
    "df_estudis['Valor'] = df_estudis['Valor'].astype(int)\n",
    "df_estudis['Valor'].sum()"
   ]
  },
  {
   "cell_type": "code",
   "execution_count": 32,
   "id": "4af01a69",
   "metadata": {},
   "outputs": [
    {
     "data": {
      "text/plain": [
       "np.int64(358823)"
      ]
     },
     "execution_count": 32,
     "metadata": {},
     "output_type": "execute_result"
    }
   ],
   "source": [
    "# Número de personas mayores de 65 años:\n",
    "df_estudis_mayors65 = df_estudis.loc[df_estudis['EDAT_Q'] >= 13]\n",
    "df_estudis_mayors65['Valor'].sum()"
   ]
  },
  {
   "cell_type": "code",
   "execution_count": null,
   "id": "f558dd44",
   "metadata": {},
   "outputs": [],
   "source": []
  },
  {
   "cell_type": "markdown",
   "id": "e65b5ae2",
   "metadata": {},
   "source": [
    "# Lugar de nacimiento"
   ]
  },
  {
   "cell_type": "code",
   "execution_count": 3,
   "id": "9bd44d40",
   "metadata": {},
   "outputs": [
    {
     "data": {
      "text/html": [
       "<div>\n",
       "<style scoped>\n",
       "    .dataframe tbody tr th:only-of-type {\n",
       "        vertical-align: middle;\n",
       "    }\n",
       "\n",
       "    .dataframe tbody tr th {\n",
       "        vertical-align: top;\n",
       "    }\n",
       "\n",
       "    .dataframe thead th {\n",
       "        text-align: right;\n",
       "    }\n",
       "</style>\n",
       "<table border=\"1\" class=\"dataframe\">\n",
       "  <thead>\n",
       "    <tr style=\"text-align: right;\">\n",
       "      <th></th>\n",
       "      <th>Data_Referencia</th>\n",
       "      <th>Codi_Districte</th>\n",
       "      <th>Nom_Districte</th>\n",
       "      <th>Codi_Barri</th>\n",
       "      <th>Nom_Barri</th>\n",
       "      <th>Valor</th>\n",
       "      <th>LLOC_NAIX</th>\n",
       "      <th>EDAT_Q</th>\n",
       "      <th>SEXE</th>\n",
       "    </tr>\n",
       "  </thead>\n",
       "  <tbody>\n",
       "    <tr>\n",
       "      <th>0</th>\n",
       "      <td>2025-01-01</td>\n",
       "      <td>1</td>\n",
       "      <td>Ciutat Vella</td>\n",
       "      <td>1</td>\n",
       "      <td>el Raval</td>\n",
       "      <td>819</td>\n",
       "      <td>1</td>\n",
       "      <td>0</td>\n",
       "      <td>1</td>\n",
       "    </tr>\n",
       "    <tr>\n",
       "      <th>1</th>\n",
       "      <td>2025-01-01</td>\n",
       "      <td>1</td>\n",
       "      <td>Ciutat Vella</td>\n",
       "      <td>1</td>\n",
       "      <td>el Raval</td>\n",
       "      <td>854</td>\n",
       "      <td>1</td>\n",
       "      <td>0</td>\n",
       "      <td>2</td>\n",
       "    </tr>\n",
       "    <tr>\n",
       "      <th>2</th>\n",
       "      <td>2025-01-01</td>\n",
       "      <td>1</td>\n",
       "      <td>Ciutat Vella</td>\n",
       "      <td>1</td>\n",
       "      <td>el Raval</td>\n",
       "      <td>646</td>\n",
       "      <td>1</td>\n",
       "      <td>1</td>\n",
       "      <td>1</td>\n",
       "    </tr>\n",
       "    <tr>\n",
       "      <th>3</th>\n",
       "      <td>2025-01-01</td>\n",
       "      <td>1</td>\n",
       "      <td>Ciutat Vella</td>\n",
       "      <td>1</td>\n",
       "      <td>el Raval</td>\n",
       "      <td>732</td>\n",
       "      <td>1</td>\n",
       "      <td>1</td>\n",
       "      <td>2</td>\n",
       "    </tr>\n",
       "    <tr>\n",
       "      <th>4</th>\n",
       "      <td>2025-01-01</td>\n",
       "      <td>1</td>\n",
       "      <td>Ciutat Vella</td>\n",
       "      <td>1</td>\n",
       "      <td>el Raval</td>\n",
       "      <td>561</td>\n",
       "      <td>1</td>\n",
       "      <td>2</td>\n",
       "      <td>1</td>\n",
       "    </tr>\n",
       "  </tbody>\n",
       "</table>\n",
       "</div>"
      ],
      "text/plain": [
       "  Data_Referencia  Codi_Districte Nom_Districte  Codi_Barri Nom_Barri Valor  \\\n",
       "0      2025-01-01               1  Ciutat Vella           1  el Raval   819   \n",
       "1      2025-01-01               1  Ciutat Vella           1  el Raval   854   \n",
       "2      2025-01-01               1  Ciutat Vella           1  el Raval   646   \n",
       "3      2025-01-01               1  Ciutat Vella           1  el Raval   732   \n",
       "4      2025-01-01               1  Ciutat Vella           1  el Raval   561   \n",
       "\n",
       "   LLOC_NAIX  EDAT_Q  SEXE  \n",
       "0          1       0     1  \n",
       "1          1       0     2  \n",
       "2          1       1     1  \n",
       "3          1       1     2  \n",
       "4          1       2     1  "
      ]
     },
     "execution_count": 3,
     "metadata": {},
     "output_type": "execute_result"
    }
   ],
   "source": [
    "df_lloc = pd.read_csv(r'C:\\Users\\irene\\Downloads\\2025_pad_mdb_lloc-naix_edat-q_sexe.csv')\n",
    "df_lloc.head()"
   ]
  },
  {
   "cell_type": "code",
   "execution_count": 30,
   "id": "3020af87",
   "metadata": {},
   "outputs": [
    {
     "data": {
      "text/plain": [
       "np.int64(1727354)"
      ]
     },
     "execution_count": 30,
     "metadata": {},
     "output_type": "execute_result"
    }
   ],
   "source": [
    "df_lloc.loc[df_lloc['Valor'] == '..' , 'Valor'] = 0\n",
    "df_lloc['Valor'] = df_lloc['Valor'].astype(int)\n",
    "df_lloc['Valor'].sum()"
   ]
  },
  {
   "cell_type": "code",
   "execution_count": 33,
   "id": "c0744c26",
   "metadata": {},
   "outputs": [
    {
     "data": {
      "text/plain": [
       "np.int64(358283)"
      ]
     },
     "execution_count": 33,
     "metadata": {},
     "output_type": "execute_result"
    }
   ],
   "source": [
    "# Número de personas mayores de 65 años:\n",
    "df_lloc_mayors65 = df_lloc.loc[df_lloc['EDAT_Q'] >= 13]\n",
    "df_lloc_mayors65['Valor'].sum()"
   ]
  }
 ],
 "metadata": {
  "kernelspec": {
   "display_name": "Python 3",
   "language": "python",
   "name": "python3"
  },
  "language_info": {
   "codemirror_mode": {
    "name": "ipython",
    "version": 3
   },
   "file_extension": ".py",
   "mimetype": "text/x-python",
   "name": "python",
   "nbconvert_exporter": "python",
   "pygments_lexer": "ipython3",
   "version": "3.13.1"
  }
 },
 "nbformat": 4,
 "nbformat_minor": 5
}
